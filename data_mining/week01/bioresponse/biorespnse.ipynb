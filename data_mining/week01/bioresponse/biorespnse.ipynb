{
 "cells": [
  {
   "cell_type": "markdown",
   "metadata": {
    "collapsed": true,
    "pycharm": {
     "name": "#%% md\n"
    }
   },
   "source": [
    "# Predicting a Biological Response\n",
    "\n",
    "Predict a biological response of molecules from their chemical properties.\n",
    "\n",
    "## Importing the data"
   ]
  },
  {
   "cell_type": "code",
   "execution_count": 92,
   "metadata": {
    "pycharm": {
     "is_executing": false
    }
   },
   "outputs": [],
   "source": [
    "import os\n",
    "import pandas as pd\n",
    "import numpy as np \n",
    "from sklearn.feature_selection import SelectKBest\n",
    "from sklearn.feature_selection import chi2\n",
    "from sklearn.ensemble import RandomForestClassifier, GradientBoostingClassifier\n",
    "\n",
    "train = pd.read_csv(os.path.join('data', 'train.csv'))\n",
    "test = pd.read_csv(os.path.join('data', 'test.csv'))\n",
    "\n",
    "def correlated_features(df, threshold):\n",
    "    correlation_matrix = df.corr().abs()\n",
    "    unit_matrix = np.ones(correlation_matrix.shape)\n",
    "    triangle = np.triu(unit_matrix, k=1).astype(np.bool)\n",
    "    upper = correlation_matrix.where(triangle)\n",
    "    to_drop = [c for c in upper.columns if any(upper[c] > threshold)]\n",
    "    return df.drop(df[to_drop], axis=1)\n",
    "\n",
    "def k_best(df, k, n):\n",
    "    X = df.iloc[:, 1:len(df.columns) + 1]\n",
    "    y = df.iloc[:, 0]\n",
    "    \n",
    "    best_features = SelectKBest(score_func=chi2, k=k)\n",
    "    fit = best_features.fit(X, y)\n",
    "    df_scores = pd.DataFrame(fit.scores_)\n",
    "    df_columns = pd.DataFrame(X.columns)\n",
    "\n",
    "    feature_scores = pd.concat([ df_columns, df_scores ], axis=1)\n",
    "    feature_scores.columns = ['Name', 'Score']\n",
    "    selected_features = feature_scores.nlargest(n, 'Score')\n",
    "\n",
    "    return list(selected_features['Name'])\n",
    "\n",
    "def best_features(df):\n",
    "    df = correlated_features(df, 0.95)\n",
    "    df = k_best(df, 10, 10)\n",
    "    return df"
   ]
  },
  {
   "cell_type": "markdown",
   "metadata": {
    "collapsed": false,
    "pycharm": {
     "name": "#%% md\n"
    }
   },
   "source": [
    "## Selecting features\n",
    "\n",
    "\n",
    "We use chi2 to select the best features."
   ]
  },
  {
   "cell_type": "code",
   "execution_count": 93,
   "metadata": {
    "pycharm": {
     "is_executing": false,
     "name": "#%%\n"
    }
   },
   "outputs": [
    {
     "data": {
      "text/plain": "['D1036',\n 'D1061',\n 'D1087',\n 'D1169',\n 'D1196',\n 'D1281',\n 'D1309',\n 'D27',\n 'D469',\n 'D959']"
     },
     "metadata": {},
     "output_type": "execute_result",
     "execution_count": 93
    }
   ],
   "source": [
    "import matplotlib.pyplot as plt\n",
    "from sklearn.metrics import accuracy_score, log_loss\n",
    "\n",
    "def train_rfc():\n",
    "    selected_features = best_features(train)\n",
    "    selected_features.sort()\n",
    "    \n",
    "    columns = ['Activity'] + selected_features\n",
    "    \n",
    "    trimmed_train = train[columns]\n",
    "    \n",
    "    X = trimmed_train.iloc[:, 1:len(trimmed_train.columns) + 1]\n",
    "    y = trimmed_train.iloc[:, 0]\n",
    "\n",
    "    rfc = RandomForestClassifier(n_estimators=100, random_state=0)\n",
    "    rfc.fit(X, y)\n",
    "    return selected_features, rfc\n",
    "    \n",
    "selected_features, rfc = train_rfc()\n",
    "\n",
    "selected_features"
   ]
  },
  {
   "cell_type": "code",
   "execution_count": 94,
   "outputs": [],
   "source": [
    "import os\n",
    "from pathlib import Path\n",
    "\n",
    "X_filtered = test[selected_features]\n",
    "\n",
    "probabilities = [ x[1] for x in rfc.predict_proba(X_filtered) ]\n",
    "indexes = [n + 1 for n in range(2502)]\n",
    "\n",
    "df = pd.DataFrame(\n",
    "    list(zip(indexes, probabilities)), \n",
    "    columns=[\"MoleculeId\", \"PredictedProbability\"]\n",
    ")\n",
    "\n",
    "df.to_csv(index=False, path_or_buf= Path().absolute().joinpath(Path(\"predicted.csv\")))"
   ],
   "metadata": {
    "collapsed": false,
    "pycharm": {
     "name": "#%%\n",
     "is_executing": false
    }
   }
  },
  {
   "cell_type": "code",
   "execution_count": 84,
   "outputs": [
    {
     "data": {
      "text/plain": "      MoleculeId  PredictedProbability\n0              1              0.539991\n1              2              0.823434\n2              3              0.318652\n3              4              0.798110\n4              5              0.247078\n...          ...                   ...\n2496        2497              0.722432\n2497        2498              0.216729\n2498        2499              0.789620\n2499        2500              0.769816\n2500        2501              0.265429\n\n[2501 rows x 2 columns]",
      "text/html": "<div>\n<style scoped>\n    .dataframe tbody tr th:only-of-type {\n        vertical-align: middle;\n    }\n\n    .dataframe tbody tr th {\n        vertical-align: top;\n    }\n\n    .dataframe thead th {\n        text-align: right;\n    }\n</style>\n<table border=\"1\" class=\"dataframe\">\n  <thead>\n    <tr style=\"text-align: right;\">\n      <th></th>\n      <th>MoleculeId</th>\n      <th>PredictedProbability</th>\n    </tr>\n  </thead>\n  <tbody>\n    <tr>\n      <th>0</th>\n      <td>1</td>\n      <td>0.539991</td>\n    </tr>\n    <tr>\n      <th>1</th>\n      <td>2</td>\n      <td>0.823434</td>\n    </tr>\n    <tr>\n      <th>2</th>\n      <td>3</td>\n      <td>0.318652</td>\n    </tr>\n    <tr>\n      <th>3</th>\n      <td>4</td>\n      <td>0.798110</td>\n    </tr>\n    <tr>\n      <th>4</th>\n      <td>5</td>\n      <td>0.247078</td>\n    </tr>\n    <tr>\n      <th>...</th>\n      <td>...</td>\n      <td>...</td>\n    </tr>\n    <tr>\n      <th>2496</th>\n      <td>2497</td>\n      <td>0.722432</td>\n    </tr>\n    <tr>\n      <th>2497</th>\n      <td>2498</td>\n      <td>0.216729</td>\n    </tr>\n    <tr>\n      <th>2498</th>\n      <td>2499</td>\n      <td>0.789620</td>\n    </tr>\n    <tr>\n      <th>2499</th>\n      <td>2500</td>\n      <td>0.769816</td>\n    </tr>\n    <tr>\n      <th>2500</th>\n      <td>2501</td>\n      <td>0.265429</td>\n    </tr>\n  </tbody>\n</table>\n<p>2501 rows × 2 columns</p>\n</div>"
     },
     "metadata": {},
     "output_type": "execute_result",
     "execution_count": 84
    }
   ],
   "source": [
    "# from sklearn.ensemble import RandomForestClassifier, GradientBoostingClassifier\n",
    "# \n",
    "# X = train.iloc[:, 1:len(train.columns) + 1]\n",
    "# y = train.iloc[:, 0]\n",
    "# \n",
    "# rfc = GradientBoostingClassifier(n_estimators=20, random_state=0)\n",
    "# rfc.fit(X, y)\n",
    "# probabilities = [ x[1] for x in rfc.predict_proba(test)]\n",
    "# \n",
    "# df = pd.DataFrame(\n",
    "#     list(zip(indexes, probabilities)), \n",
    "#     columns=[\"MoleculeId\", \"PredictedProbability\"]\n",
    "# )\n",
    "# \n",
    "# df"
   ],
   "metadata": {
    "collapsed": false,
    "pycharm": {
     "name": "#%%\n",
     "is_executing": false
    }
   }
  },
  {
   "cell_type": "code",
   "execution_count": 91,
   "outputs": [],
   "source": [
    "df.to_csv(index=False, path_or_buf= Path().absolute().joinpath(Path(\"predicted.csv\")))\n"
   ],
   "metadata": {
    "collapsed": false,
    "pycharm": {
     "name": "#%%\n",
     "is_executing": false
    }
   }
  }
 ],
 "metadata": {
  "kernelspec": {
   "display_name": "Python 3",
   "language": "python",
   "name": "python3"
  },
  "language_info": {
   "codemirror_mode": {
    "name": "ipython",
    "version": 2
   },
   "file_extension": ".py",
   "mimetype": "text/x-python",
   "name": "python",
   "nbconvert_exporter": "python",
   "pygments_lexer": "ipython2",
   "version": "3.7.4"
  },
  "pycharm": {
   "stem_cell": {
    "cell_type": "raw",
    "source": [],
    "metadata": {
     "collapsed": false
    }
   }
  }
 },
 "nbformat": 4,
 "nbformat_minor": 0
}