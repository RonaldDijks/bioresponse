{
 "cells": [
  {
   "cell_type": "markdown",
   "metadata": {
    "collapsed": true,
    "pycharm": {
     "name": "#%% md\n"
    }
   },
   "source": [
    "# Predicting a Biological Response\n",
    "\n",
    "Predict a biological response of molecules from their chemical properties.\n",
    "\n",
    "## Importing the data"
   ]
  },
  {
   "cell_type": "code",
   "execution_count": 20,
   "metadata": {
    "pycharm": {
     "is_executing": false
    }
   },
   "outputs": [],
   "source": [
    "import os\n",
    "from pathlib import Path\n",
    "import pandas as pd\n",
    "from sklearn.ensemble import GradientBoostingClassifier\n",
    "\n",
    "train = pd.read_csv(os.path.join('data', 'train.csv'))\n",
    "test = pd.read_csv(os.path.join('data', 'test.csv'))\n",
    "\n",
    "input_X = pd.DataFrame(train.iloc[:, 1:len(train.columns) + 1])\n",
    "input_y = pd.DataFrame(train.iloc[:, 0])\n",
    "\n",
    "scaler = None # MinMaxScaler()\n",
    "pca = None # PCA(random_state=1, n_components=1000)\n",
    "\n",
    "def get_dataset(X, y, test, scaler = None, pca = None):\n",
    "    if scaler is not None:\n",
    "        scaler.fit(X, y)\n",
    "        X = scaler.transform(X)\n",
    "        test = scaler.transform(test)\n",
    "    if pca is not None:\n",
    "        pca.fit(X, y)\n",
    "        X = pca.transform(X)\n",
    "        test = pca.transform(test)\n",
    "    return X, y, test\n",
    "\n",
    "X, y, test = get_dataset(input_X, input_y, test, scaler, pca)"
   ]
  },
  {
   "cell_type": "code",
   "execution_count": 13,
   "outputs": [
    {
     "name": "stderr",
     "text": [
      "/home/ronald/anaconda3/envs/minor_data_mining/lib/python3.7/site-packages/sklearn/ensemble/gradient_boosting.py:1450: DataConversionWarning: A column-vector y was passed when a 1d array was expected. Please change the shape of y to (n_samples, ), for example using ravel().\n",
      "  y = column_or_1d(y, warn=True)\n"
     ],
     "output_type": "stream"
    }
   ],
   "source": [
    "classifier = GradientBoostingClassifier(n_estimators=300, random_state=1)\n",
    "classifier.fit(X, y)\n",
    "\n",
    "predictions = classifier.predict(X)\n",
    "predictions_proba = classifier.predict_proba(X)[:, 1]"
   ],
   "metadata": {
    "collapsed": false,
    "pycharm": {
     "name": "#%%\n",
     "is_executing": false
    }
   }
  },
  {
   "cell_type": "code",
   "execution_count": 3,
   "outputs": [],
   "source": [
    "def write_output(predictions):\n",
    "    indexes = [ n + 1 for n in range(len(predictions) + 1)]\n",
    "    \n",
    "    data = list(zip(indexes, predictions))\n",
    "    columns = [\"MoleculeId\", \"PredictedProbability\"]\n",
    "    results = pd.DataFrame(data, columns=columns)\n",
    "    \n",
    "    output_path = Path().absolute().joinpath(Path(\"predicted.csv\"))\n",
    "    results.to_csv(index=False, path_or_buf=output_path)\n",
    "    \n",
    "write_output(predictions_proba)"
   ],
   "metadata": {
    "collapsed": false,
    "pycharm": {
     "name": "#%%\n",
     "is_executing": false
    }
   }
  }
 ],
 "metadata": {
  "kernelspec": {
   "display_name": "Python 3",
   "language": "python",
   "name": "python3"
  },
  "language_info": {
   "codemirror_mode": {
    "name": "ipython",
    "version": 2
   },
   "file_extension": ".py",
   "mimetype": "text/x-python",
   "name": "python",
   "nbconvert_exporter": "python",
   "pygments_lexer": "ipython2",
   "version": "3.7.4"
  },
  "pycharm": {
   "stem_cell": {
    "cell_type": "raw",
    "source": [],
    "metadata": {
     "collapsed": false
    }
   }
  }
 },
 "nbformat": 4,
 "nbformat_minor": 0
}